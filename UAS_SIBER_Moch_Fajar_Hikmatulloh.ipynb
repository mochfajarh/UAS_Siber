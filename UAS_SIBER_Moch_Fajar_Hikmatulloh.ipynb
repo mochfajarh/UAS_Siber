{
  "nbformat": 4,
  "nbformat_minor": 0,
  "metadata": {
    "colab": {
      "provenance": []
    },
    "kernelspec": {
      "name": "python3",
      "display_name": "Python 3"
    },
    "language_info": {
      "name": "python"
    }
  },
  "cells": [
    {
      "cell_type": "markdown",
      "source": [
        "# No 1"
      ],
      "metadata": {
        "id": "nIunvfzClMG2"
      }
    },
    {
      "cell_type": "markdown",
      "source": [
        "Perbedaan Reverse Proxy dengan Forward proxy menurut saya yaitu: <br>\n",
        "**Reverse Proxy** adalah perangkat server yang bertindak sebagai perantara antara klien dan server yang berada di belakangnya. Ini berarti, ketika seorang pengguna mengakses sebuah situs web, permintaan mereka tidak langsung menuju server yang menjalankan situs web tersebut.\n",
        "Sebaliknya, permintaan tersebut pertama-tama diarahkan ke reverse proxy, yang kemudian akan meneruskannya ke server yang sesungguhnya.\n",
        "<br>\n",
        "**Forward Proxy** merupakan salah satu proxy server yang paling umum dipakai. Jenis proxy ini berfungsi sebagai perantara antara sekelompok pengguna dengan internet melalui jalur koneksi.\n",
        "Forward proxy digunakan oleh klien untuk mengakses sumber daya dari server lain, sedangkan reverse proxy digunakan oleh server untuk menerima permintaan klien.\n",
        "Forward proxy umumnya digunakan untuk penyamaran identitas klien, sedangkan reverse proxy digunakan untuk melindungi server dan mengoptimalkan kinerja\n"
      ],
      "metadata": {
        "id": "iGJeGFBElVnq"
      }
    },
    {
      "cell_type": "markdown",
      "source": [
        "# No. 2"
      ],
      "metadata": {
        "id": "RqoLwAs3lu8R"
      }
    },
    {
      "cell_type": "markdown",
      "source": [
        "Metasploit framework adalah sebuah penetration tool yang cukup powerfull untuk melakukan penestrasi kedalam sebuah system, Metasploit termasuk sebuah framework penetrasi jaringan komputer yang free dan open source. metasploit framework. <br>\n",
        "Biasanya digunakan untuk :<br>\n",
        "1.   memunculkan modul, membiarkan penggunanya mengkonfigurasikan modul exploit dan mencobanya pada target yang dituju.\n",
        "2.   remote exploitation, maksudnya walaupun penyusup sistem berada padajarakjangkauan yang jauh tetapi dapat mengendalikan komputer korban.\n",
        "\n"
      ],
      "metadata": {
        "id": "ZEUFltEimEnv"
      }
    },
    {
      "cell_type": "markdown",
      "source": [
        "# NO 3"
      ],
      "metadata": {
        "id": "Tz8wSBCMmkWR"
      }
    },
    {
      "cell_type": "markdown",
      "source": [
        "Perbedaan utama dari firewall, IDS, dan IPS adalah bahwa **firewall** melakukan preforms tindakan seperti memblokir dan menyaring lalu lintas, sementara **IPS / IDS** mendeteksi dan memperingatkan administrator sistem atau mencegah serangan sesuai konfigurasi. <br>\n",
        "Perbedaan utama antara **IDS** dan **IPS** adalah tindakan yang mereka ambil ketika serangan terdeteksi dalam fase awalnya (pemindaian jaringan dan pemindaian port). <br>\n",
        "**Firewall** mengizinkan lalu lintas berdasarkan kumpulan aturan yang dikonfigurasi. Itu bergantung pada sumber, alamat tujuan, dan port. Firewall dapat menolak lalu lintas apa pun yang tidak memenuhi kriteria tertentu. <br>\n",
        "**IDS** adalah perangkat pasif yang mengawasi paket data melintasi jaringan, membandingkan dengan pola tanda tangan dan pengaturan alarm pada deteksi pada aktivitas yang mencurigakan.<br>\n",
        "**IPS** adalah perangkat aktif yang bekerja dalam mode inline dan mencegah serangan dengan memblokirnya\n"
      ],
      "metadata": {
        "id": "oDzohpdfmn5F"
      }
    },
    {
      "cell_type": "markdown",
      "source": [
        "#NO. 4"
      ],
      "metadata": {
        "id": "jnHkJZhRmnqA"
      }
    },
    {
      "cell_type": "markdown",
      "source": [
        "General Data Protection Regulation (GDPR) adalah aturan yang mengatur mengenai pelindungan data pribadi yang mengikat di negara-negara Uni Eropa. GDPR merupakan salah satu aturan acuan dari Undang-Undang Nomor 27 Tahun 2022 tentang Pelindungan Data Pribadi (UU PDP).<br>\n",
        "Secara resmi GDPR diberlakukan di Uni Eropa pada tanggal 25 Mei 2018, diikuti 27 negara sebagai anggotanya dan juga termasuk negara yang masuk kedalam Europe Economic Area (EEA).\n",
        "<br>\n",
        "<br>\n",
        "Personal Data Protection (PDP) adalah setiap data tentang seseorang baik yang teridentifikasi dan/atau dapat diidentifikasi secara tersendiri atau dikombinasi dengan informasi lainnya baik secara langsung maupun tidak langsung melalui sistem elektronik dan/atau nonelektronik.<br>\n",
        "Peraturan Menteri (Permen) No 20 Tahun 2016 tentang Perlindungan Data Pribadi (PDP) ditetapkan 7 November 2016, diundangkan dan berlaku sejak 1 Desember 2016.\n"
      ],
      "metadata": {
        "id": "KowCi-L5mm6j"
      }
    },
    {
      "cell_type": "markdown",
      "source": [
        "#NO.5"
      ],
      "metadata": {
        "id": "C9iBDH_bml3z"
      }
    },
    {
      "cell_type": "markdown",
      "source": [
        "Open Web Application Security Project atau OWASP adalah organisasi yang bertujuan untuk melawan serangan siber dan kerentanan. Dirintis oleh Mark Curphey, seorang cybersecurity enthusiast, OWASP memiliki tujuan meningkatkan keamanan aplikasi dengan menyediakan banyak informasi/materi dan beragam tools secara gratis.<br>\n",
        "OWASP juga memiliki sepuluh kerentanan keamanan aplikasi web teratas, atau yang biasa kita sebut OWASP Top Ten.\n"
      ],
      "metadata": {
        "id": "felZ2Nfmmqxc"
      }
    },
    {
      "cell_type": "code",
      "source": [],
      "metadata": {
        "id": "5UqFePeWn1Mc"
      },
      "execution_count": null,
      "outputs": []
    }
  ]
}